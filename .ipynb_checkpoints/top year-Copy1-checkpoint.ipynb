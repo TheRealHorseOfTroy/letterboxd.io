{
 "cells": [
  {
   "cell_type": "code",
   "execution_count": 1,
   "id": "61e58c06",
   "metadata": {},
   "outputs": [],
   "source": [
    "import pandas as pd\n",
    "\n",
    "#whose folder do we go into\n",
    "name = 'tory'\n",
    "#TODO"
   ]
  },
  {
   "cell_type": "code",
   "execution_count": 2,
   "id": "ce11be50",
   "metadata": {},
   "outputs": [
    {
     "data": {
      "text/html": [
       "<div>\n",
       "<style scoped>\n",
       "    .dataframe tbody tr th:only-of-type {\n",
       "        vertical-align: middle;\n",
       "    }\n",
       "\n",
       "    .dataframe tbody tr th {\n",
       "        vertical-align: top;\n",
       "    }\n",
       "\n",
       "    .dataframe thead th {\n",
       "        text-align: right;\n",
       "    }\n",
       "</style>\n",
       "<table border=\"1\" class=\"dataframe\">\n",
       "  <thead>\n",
       "    <tr style=\"text-align: right;\">\n",
       "      <th></th>\n",
       "      <th>Date</th>\n",
       "      <th>Name</th>\n",
       "      <th>Year</th>\n",
       "      <th>Letterboxd URI</th>\n",
       "      <th>Rating</th>\n",
       "    </tr>\n",
       "  </thead>\n",
       "  <tbody>\n",
       "    <tr>\n",
       "      <th>0</th>\n",
       "      <td>2022-09-30</td>\n",
       "      <td>Megamind</td>\n",
       "      <td>2010</td>\n",
       "      <td>https://boxd.it/16Sk</td>\n",
       "      <td>4.0</td>\n",
       "    </tr>\n",
       "    <tr>\n",
       "      <th>1</th>\n",
       "      <td>2022-09-30</td>\n",
       "      <td>(500) Days of Summer</td>\n",
       "      <td>2009</td>\n",
       "      <td>https://boxd.it/1EmM</td>\n",
       "      <td>2.0</td>\n",
       "    </tr>\n",
       "    <tr>\n",
       "      <th>2</th>\n",
       "      <td>2022-09-30</td>\n",
       "      <td>The Proposal</td>\n",
       "      <td>2009</td>\n",
       "      <td>https://boxd.it/1HiS</td>\n",
       "      <td>4.0</td>\n",
       "    </tr>\n",
       "    <tr>\n",
       "      <th>3</th>\n",
       "      <td>2022-09-30</td>\n",
       "      <td>Up</td>\n",
       "      <td>2009</td>\n",
       "      <td>https://boxd.it/1OEc</td>\n",
       "      <td>2.5</td>\n",
       "    </tr>\n",
       "    <tr>\n",
       "      <th>4</th>\n",
       "      <td>2022-09-30</td>\n",
       "      <td>Wild Child</td>\n",
       "      <td>2008</td>\n",
       "      <td>https://boxd.it/1P0C</td>\n",
       "      <td>4.0</td>\n",
       "    </tr>\n",
       "    <tr>\n",
       "      <th>...</th>\n",
       "      <td>...</td>\n",
       "      <td>...</td>\n",
       "      <td>...</td>\n",
       "      <td>...</td>\n",
       "      <td>...</td>\n",
       "    </tr>\n",
       "    <tr>\n",
       "      <th>1050</th>\n",
       "      <td>2022-11-20</td>\n",
       "      <td>Chicken Run</td>\n",
       "      <td>2000</td>\n",
       "      <td>https://boxd.it/20Xg</td>\n",
       "      <td>2.0</td>\n",
       "    </tr>\n",
       "    <tr>\n",
       "      <th>1051</th>\n",
       "      <td>2022-11-20</td>\n",
       "      <td>Nancy Drew</td>\n",
       "      <td>2007</td>\n",
       "      <td>https://boxd.it/1OSe</td>\n",
       "      <td>1.5</td>\n",
       "    </tr>\n",
       "    <tr>\n",
       "      <th>1052</th>\n",
       "      <td>2022-11-20</td>\n",
       "      <td>Cheaper by the Dozen</td>\n",
       "      <td>2003</td>\n",
       "      <td>https://boxd.it/1USa</td>\n",
       "      <td>2.5</td>\n",
       "    </tr>\n",
       "    <tr>\n",
       "      <th>1053</th>\n",
       "      <td>2022-11-20</td>\n",
       "      <td>The Hunchback of Notre Dame</td>\n",
       "      <td>1996</td>\n",
       "      <td>https://boxd.it/1VZQ</td>\n",
       "      <td>3.0</td>\n",
       "    </tr>\n",
       "    <tr>\n",
       "      <th>1054</th>\n",
       "      <td>2022-11-20</td>\n",
       "      <td>Ice Age</td>\n",
       "      <td>2002</td>\n",
       "      <td>https://boxd.it/2apS</td>\n",
       "      <td>3.0</td>\n",
       "    </tr>\n",
       "  </tbody>\n",
       "</table>\n",
       "<p>1055 rows × 5 columns</p>\n",
       "</div>"
      ],
      "text/plain": [
       "            Date                         Name  Year        Letterboxd URI  \\\n",
       "0     2022-09-30                     Megamind  2010  https://boxd.it/16Sk   \n",
       "1     2022-09-30         (500) Days of Summer  2009  https://boxd.it/1EmM   \n",
       "2     2022-09-30                 The Proposal  2009  https://boxd.it/1HiS   \n",
       "3     2022-09-30                           Up  2009  https://boxd.it/1OEc   \n",
       "4     2022-09-30                   Wild Child  2008  https://boxd.it/1P0C   \n",
       "...          ...                          ...   ...                   ...   \n",
       "1050  2022-11-20                  Chicken Run  2000  https://boxd.it/20Xg   \n",
       "1051  2022-11-20                   Nancy Drew  2007  https://boxd.it/1OSe   \n",
       "1052  2022-11-20         Cheaper by the Dozen  2003  https://boxd.it/1USa   \n",
       "1053  2022-11-20  The Hunchback of Notre Dame  1996  https://boxd.it/1VZQ   \n",
       "1054  2022-11-20                      Ice Age  2002  https://boxd.it/2apS   \n",
       "\n",
       "      Rating  \n",
       "0        4.0  \n",
       "1        2.0  \n",
       "2        4.0  \n",
       "3        2.5  \n",
       "4        4.0  \n",
       "...      ...  \n",
       "1050     2.0  \n",
       "1051     1.5  \n",
       "1052     2.5  \n",
       "1053     3.0  \n",
       "1054     3.0  \n",
       "\n",
       "[1055 rows x 5 columns]"
      ]
     },
     "execution_count": 2,
     "metadata": {},
     "output_type": "execute_result"
    }
   ],
   "source": [
    "#whose folder are we going into\n",
    "name = 'tory'\n",
    "\n",
    "watched_df = pd.read_csv (\"watched.csv\")\n",
    "watched_df = watched_df.rename(columns={'release year': 'release'})\n",
    "rated_df = pd.read_csv (\"ratings.csv\")\n",
    "rated_df = rated_df.rename(columns={'release year': 'release'})\n",
    "rated_df"
   ]
  },
  {
   "cell_type": "code",
   "execution_count": 3,
   "id": "59af3e2f",
   "metadata": {},
   "outputs": [
    {
     "data": {
      "text/plain": [
       "0       2010\n",
       "1       2009\n",
       "2       2009\n",
       "3       2009\n",
       "4       2008\n",
       "        ... \n",
       "1050    2000\n",
       "1051    2007\n",
       "1052    2003\n",
       "1053    1996\n",
       "1054    2002\n",
       "Name: Year, Length: 1055, dtype: int64"
      ]
     },
     "execution_count": 3,
     "metadata": {},
     "output_type": "execute_result"
    }
   ],
   "source": [
    "w_years = watched_df.loc[:,'Year']\n",
    "r_years = rated_df.loc[:,'Year']\n",
    "r_years"
   ]
  },
  {
   "cell_type": "code",
   "execution_count": 4,
   "id": "ca51174a",
   "metadata": {},
   "outputs": [],
   "source": [
    "from collections import Counter\n",
    "import matplotlib.pyplot as plt\n",
    "\n",
    "w_counts = Counter(w_years)\n",
    "r_counts = Counter(r_years)"
   ]
  },
  {
   "cell_type": "code",
   "execution_count": 5,
   "id": "cae38c86",
   "metadata": {},
   "outputs": [
    {
     "name": "stdout",
     "output_type": "stream",
     "text": [
      "2011  :  62\n"
     ]
    },
    {
     "data": {
      "image/png": "[encoded data removed]",
      "text/plain": [
       "<Figure size 432x288 with 1 Axes>"
      ]
     },
     "metadata": {
      "needs_background": "light"
     },
     "output_type": "display_data"
    }
   ],
   "source": [
    "plt.bar(w_counts.keys(), w_counts.values())\n",
    "plt.bar(r_counts.keys(), r_counts.values())\n",
    "highestY =0\n",
    "highestV =0\n",
    "\n",
    "for key, value in w_counts.items():\n",
    "    if value > highestV:\n",
    "        highestY = key\n",
    "        highestV = value\n",
    "print(highestY, \" : \", highestV)"
   ]
  },
  {
   "cell_type": "code",
   "execution_count": 6,
   "id": "eb20b456",
   "metadata": {},
   "outputs": [
    {
     "data": {
      "text/plain": [
       "23"
      ]
     },
     "execution_count": 6,
     "metadata": {},
     "output_type": "execute_result"
    }
   ],
   "source": [
    "oldies =0\n",
    "for key, value in w_counts.items():\n",
    "    if key < 1980:\n",
    "        oldies += value\n",
    "oldies"
   ]
  },
  {
   "cell_type": "code",
   "execution_count": 62,
   "id": "eb44e2d2",
   "metadata": {},
   "outputs": [
    {
     "data": {
      "text/plain": [
       "0       4.0\n",
       "1       2.0\n",
       "2       4.0\n",
       "3       2.5\n",
       "4       4.0\n",
       "       ... \n",
       "1050    2.0\n",
       "1051    1.5\n",
       "1052    2.5\n",
       "1053    3.0\n",
       "1054    3.0\n",
       "Name: Rating, Length: 1055, dtype: float64"
      ]
     },
     "execution_count": 62,
     "metadata": {},
     "output_type": "execute_result"
    }
   ],
   "source": [
    "ratings = rated_df.loc[:,'Rating']\n",
    "ratings"
   ]
  },
  {
   "cell_type": "code",
   "execution_count": 8,
   "id": "9a0842ae",
   "metadata": {},
   "outputs": [],
   "source": [
    "year_maths ={}\n",
    "#for loop through years making a new line with that year and value 0\n",
    "null_vals = [0] * len(rated_df)\n",
    "year_maths = dict(zip(w_years, null_vals))\n"
   ]
  },
  {
   "cell_type": "code",
   "execution_count": 9,
   "id": "6c3288f1",
   "metadata": {},
   "outputs": [],
   "source": [
    "total_avg = 0\n",
    "for i in range(len(rated_df)):\n",
    "    sum = year_maths.get(r_years.get(i)) + ratings.get(i)\n",
    "    year_maths.update({r_years.get(i): sum})\n",
    "    total_avg += rated_df.loc[i, 'Rating']"
   ]
  },
  {
   "cell_type": "code",
   "execution_count": 10,
   "id": "c2dbc181",
   "metadata": {},
   "outputs": [],
   "source": [
    "allyear_maths ={}\n",
    "highest_avg  =0\n",
    "highest_year = 0\n",
    "for key, value in year_maths.items():\n",
    "    count = r_counts.get(key)\n",
    "    avg = value/count\n",
    "    if highest_avg< avg:\n",
    "        highest_avg = avg\n",
    "        highest_year = key\n",
    "    allyear_maths.update({key: avg})"
   ]
  },
  {
   "cell_type": "code",
   "execution_count": 52,
   "id": "87796c97",
   "metadata": {},
   "outputs": [],
   "source": [
    "high5  =0\n",
    "high5avg = 0\n",
    "year5maths ={}\n",
    "low5= 2050\n",
    "low5avg = 10\n",
    "\n",
    "for key, value in year_maths.items():\n",
    "    count = r_counts.get(key)\n",
    "    if count >=5:\n",
    "        avg = value/count\n",
    "        if high5avg< avg:\n",
    "            high5avg = avg\n",
    "            high5 = key\n",
    "        if low5avg> avg:\n",
    "            low5avg = avg\n",
    "            low5 = key\n",
    "        year5maths.update({key: avg})"
   ]
  },
  {
   "cell_type": "code",
   "execution_count": 27,
   "id": "c9c6a578",
   "metadata": {},
   "outputs": [],
   "source": [
    "year6maths ={}\n",
    "#for loop through years making a new line with that year and value 0\n",
    "null_vals = [0] * len(rated_df)\n",
    "year6maths = dict(zip(w_years, null_vals))"
   ]
  },
  {
   "cell_type": "code",
   "execution_count": 42,
   "id": "e22810a8",
   "metadata": {},
   "outputs": [],
   "source": [
    "total_avg = 0\n",
    "for i in range(len(rated_df)):\n",
    "    if ratings.get(i) >= 3:\n",
    "        sum = year_maths.get(r_years.get(i)) + ratings.get(i)\n",
    "        year6maths.update({r_years.get(i): sum})"
   ]
  },
  {
   "cell_type": "code",
   "execution_count": 43,
   "id": "5e75e415",
   "metadata": {},
   "outputs": [],
   "source": [
    "high6  =0\n",
    "high6avg = 0\n",
    "year6mathsavg ={}\n",
    "\n",
    "for key, value in year6maths.items():\n",
    "    count = r_counts.get(key)\n",
    "    if count >=5:\n",
    "        avg = value/count\n",
    "        if high6avg< avg:\n",
    "            high6avg = avg\n",
    "            high6 = key\n",
    "        year6mathsavg.update({key: avg})"
   ]
  },
  {
   "cell_type": "code",
   "execution_count": 71,
   "id": "d8ced719",
   "metadata": {},
   "outputs": [],
   "source": [
    "ynr = list(zip(r_years, ratings))\n",
    "counts6= dict(zip(r_years, null_vals))\n",
    "for i, j in ynr:\n",
    "    if j >=3:\n",
    "        newc = counts6.get(i) +1\n",
    "        counts6.update({i: newc})"
   ]
  },
  {
   "cell_type": "code",
   "execution_count": 76,
   "id": "717fb022",
   "metadata": {},
   "outputs": [],
   "source": [
    "vol6 = 0\n",
    "year6 = 0\n",
    "\n",
    "for key, value in counts6.items():\n",
    "    if value > vol6:\n",
    "        vol6 = value\n",
    "        year6 = key"
   ]
  },
  {
   "cell_type": "code",
   "execution_count": 79,
   "id": "f38c16ea",
   "metadata": {},
   "outputs": [
    {
     "name": "stdout",
     "output_type": "stream",
     "text": [
      "average movie rating:0.00\n",
      "year with the highest average ratings:  1979  with an avg of:  4.25\n",
      "however you only saw:  2 movies that year,,, soooo taking that into account\n",
      "your highest rated year (with at least 5 movies) is: 1996 with an avg of:  3.1923076923076925\n",
      "and you saw  13 movies that year!\n",
      "not including any film rated less than 3★: 1996 with an avg of:  3.423076923076923\n",
      "and you saw  13 movies that year!\n",
      "that feels weird, so just in general, the year you've rated the most films at 3★ or higher:  2019  with  29  movies\n",
      "how about worst movies! your lowest rated year(>=5 movies) was:  1987 at:  1.7142857142857142\n",
      "sorry you had to see  7 movies that year...\n"
     ]
    }
   ],
   "source": [
    "\n",
    "print(\"average movie rating:{:0.2f}\".format(total_avg/len(rated_df)))\n",
    "print(\"year with the highest average ratings: \", highest_year, \" with an avg of: \", highest_avg)\n",
    "print(\"however you only saw: \", r_counts.get(highest_year), \"movies that year,,, soooo taking that into account\")\n",
    "print(\"your highest rated year (with at least 5 movies) is:\", high5, \"with an avg of: \", high5avg)\n",
    "print(\"and you saw \", r_counts.get(high5), \"movies that year!\")\n",
    "print(\"not including any film rated less than 3★:\", high6, \"with an avg of: \", high6avg)\n",
    "print(\"and you saw \", r_counts.get(high6), \"movies that year!\")\n",
    "print(\"that feels weird, so just in general, the year you've rated the most films at 3★ or higher: \", year6, \" with \", vol6, \" movies\")\n",
    "print(\"how about worst movies! your lowest rated year(>=5 movies) was: \", low5, \"at: \", low5avg)\n",
    "print(\"sorry you had to see \", r_counts.get(low5), \"movies that year...\")\n"
   ]
  },
  {
   "cell_type": "code",
   "execution_count": 17,
   "id": "eadca870",
   "metadata": {},
   "outputs": [
    {
     "data": {
      "text/plain": [
       "<BarContainer object of 62 artists>"
      ]
     },
     "execution_count": 17,
     "metadata": {},
     "output_type": "execute_result"
    },
    {
     "data": {
      "image/png": "[encoded data removed]",
      "text/plain": [
       "<Figure size 432x288 with 1 Axes>"
      ]
     },
     "metadata": {
      "needs_background": "light"
     },
     "output_type": "display_data"
    }
   ],
   "source": [
    "plt.bar(allyear_maths.keys(), allyear_maths.values())\n"
   ]
  },
  {
   "cell_type": "code",
   "execution_count": 15,
   "id": "572993ac",
   "metadata": {},
   "outputs": [
    {
     "data": {
      "text/plain": [
       "<BarContainer object of 39 artists>"
      ]
     },
     "execution_count": 15,
     "metadata": {},
     "output_type": "execute_result"
    },
    {
     "data": {
      "image/png": "[encoded data removed]",
      "text/plain": [
       "<Figure size 432x288 with 1 Axes>"
      ]
     },
     "metadata": {
      "needs_background": "light"
     },
     "output_type": "display_data"
    }
   ],
   "source": [
    "plt.bar(year5maths.keys(), year5maths.values())\n"
   ]
  }
 ],
 "metadata": {
  "kernelspec": {
   "display_name": "Python 3 (ipykernel)",
   "language": "python",
   "name": "python3"
  },
  "language_info": {
   "codemirror_mode": {
    "name": "ipython",
    "version": 3
   },
   "file_extension": ".py",
   "mimetype": "text/x-python",
   "name": "python",
   "nbconvert_exporter": "python",
   "pygments_lexer": "ipython3",
   "version": "3.10.5"
  }
 },
 "nbformat": 4,
 "nbformat_minor": 5
}
