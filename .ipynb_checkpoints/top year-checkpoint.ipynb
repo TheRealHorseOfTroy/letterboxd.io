{
 "cells": [
  {
   "cell_type": "code",
   "execution_count": 5,
   "id": "61e58c06",
   "metadata": {},
   "outputs": [
    {
     "data": {
      "text/plain": [
       "'C:\\\\Users\\\\tory\\\\Desktop\\\\personal\\\\tory'"
      ]
     },
     "execution_count": 5,
     "metadata": {},
     "output_type": "execute_result"
    }
   ],
   "source": [
    "import pandas as pd\n",
    "import os\n",
    "\n",
    "#whose folder do we go into\n",
    "name = 'xaves'\n",
    "\n",
    "cwd = os.getcwd()\n",
    "cwd\n",
    "#os.chdir(name)\n",
    "cwd = os.getcwd()\n",
    "cwd\n",
    "\n",
    "\n",
    "#TODO"
   ]
  },
  {
   "cell_type": "code",
   "execution_count": 2,
   "id": "ce11be50",
   "metadata": {},
   "outputs": [
    {
     "data": {
      "text/html": [
       "<div>\n",
       "<style scoped>\n",
       "    .dataframe tbody tr th:only-of-type {\n",
       "        vertical-align: middle;\n",
       "    }\n",
       "\n",
       "    .dataframe tbody tr th {\n",
       "        vertical-align: top;\n",
       "    }\n",
       "\n",
       "    .dataframe thead th {\n",
       "        text-align: right;\n",
       "    }\n",
       "</style>\n",
       "<table border=\"1\" class=\"dataframe\">\n",
       "  <thead>\n",
       "    <tr style=\"text-align: right;\">\n",
       "      <th></th>\n",
       "      <th>Date</th>\n",
       "      <th>Name</th>\n",
       "      <th>Year</th>\n",
       "      <th>Letterboxd URI</th>\n",
       "      <th>Rating</th>\n",
       "    </tr>\n",
       "  </thead>\n",
       "  <tbody>\n",
       "    <tr>\n",
       "      <th>0</th>\n",
       "      <td>2022-09-30</td>\n",
       "      <td>Megamind</td>\n",
       "      <td>2010</td>\n",
       "      <td>https://boxd.it/16Sk</td>\n",
       "      <td>4.0</td>\n",
       "    </tr>\n",
       "    <tr>\n",
       "      <th>1</th>\n",
       "      <td>2022-09-30</td>\n",
       "      <td>(500) Days of Summer</td>\n",
       "      <td>2009</td>\n",
       "      <td>https://boxd.it/1EmM</td>\n",
       "      <td>2.0</td>\n",
       "    </tr>\n",
       "    <tr>\n",
       "      <th>2</th>\n",
       "      <td>2022-09-30</td>\n",
       "      <td>The Proposal</td>\n",
       "      <td>2009</td>\n",
       "      <td>https://boxd.it/1HiS</td>\n",
       "      <td>4.0</td>\n",
       "    </tr>\n",
       "    <tr>\n",
       "      <th>3</th>\n",
       "      <td>2022-09-30</td>\n",
       "      <td>Up</td>\n",
       "      <td>2009</td>\n",
       "      <td>https://boxd.it/1OEc</td>\n",
       "      <td>2.5</td>\n",
       "    </tr>\n",
       "    <tr>\n",
       "      <th>4</th>\n",
       "      <td>2022-09-30</td>\n",
       "      <td>Wild Child</td>\n",
       "      <td>2008</td>\n",
       "      <td>https://boxd.it/1P0C</td>\n",
       "      <td>4.0</td>\n",
       "    </tr>\n",
       "    <tr>\n",
       "      <th>...</th>\n",
       "      <td>...</td>\n",
       "      <td>...</td>\n",
       "      <td>...</td>\n",
       "      <td>...</td>\n",
       "      <td>...</td>\n",
       "    </tr>\n",
       "    <tr>\n",
       "      <th>1058</th>\n",
       "      <td>2022-11-21</td>\n",
       "      <td>Love, Death &amp; Robots: The Dump</td>\n",
       "      <td>2019</td>\n",
       "      <td>https://boxd.it/lJGi</td>\n",
       "      <td>1.5</td>\n",
       "    </tr>\n",
       "    <tr>\n",
       "      <th>1059</th>\n",
       "      <td>2022-11-21</td>\n",
       "      <td>Love, Death &amp; Robots: Suits</td>\n",
       "      <td>2019</td>\n",
       "      <td>https://boxd.it/lFOM</td>\n",
       "      <td>3.0</td>\n",
       "    </tr>\n",
       "    <tr>\n",
       "      <th>1060</th>\n",
       "      <td>2022-11-21</td>\n",
       "      <td>Love, Death &amp; Robots: Jibaro</td>\n",
       "      <td>2022</td>\n",
       "      <td>https://boxd.it/AW7U</td>\n",
       "      <td>0.5</td>\n",
       "    </tr>\n",
       "    <tr>\n",
       "      <th>1061</th>\n",
       "      <td>2022-11-21</td>\n",
       "      <td>Brüno</td>\n",
       "      <td>2009</td>\n",
       "      <td>https://boxd.it/1GSA</td>\n",
       "      <td>1.5</td>\n",
       "    </tr>\n",
       "    <tr>\n",
       "      <th>1062</th>\n",
       "      <td>2022-11-21</td>\n",
       "      <td>Bird Box</td>\n",
       "      <td>2018</td>\n",
       "      <td>https://boxd.it/eh1i</td>\n",
       "      <td>3.5</td>\n",
       "    </tr>\n",
       "  </tbody>\n",
       "</table>\n",
       "<p>1063 rows × 5 columns</p>\n",
       "</div>"
      ],
      "text/plain": [
       "            Date                            Name  Year        Letterboxd URI  \\\n",
       "0     2022-09-30                        Megamind  2010  https://boxd.it/16Sk   \n",
       "1     2022-09-30            (500) Days of Summer  2009  https://boxd.it/1EmM   \n",
       "2     2022-09-30                    The Proposal  2009  https://boxd.it/1HiS   \n",
       "3     2022-09-30                              Up  2009  https://boxd.it/1OEc   \n",
       "4     2022-09-30                      Wild Child  2008  https://boxd.it/1P0C   \n",
       "...          ...                             ...   ...                   ...   \n",
       "1058  2022-11-21  Love, Death & Robots: The Dump  2019  https://boxd.it/lJGi   \n",
       "1059  2022-11-21     Love, Death & Robots: Suits  2019  https://boxd.it/lFOM   \n",
       "1060  2022-11-21    Love, Death & Robots: Jibaro  2022  https://boxd.it/AW7U   \n",
       "1061  2022-11-21                           Brüno  2009  https://boxd.it/1GSA   \n",
       "1062  2022-11-21                        Bird Box  2018  https://boxd.it/eh1i   \n",
       "\n",
       "      Rating  \n",
       "0        4.0  \n",
       "1        2.0  \n",
       "2        4.0  \n",
       "3        2.5  \n",
       "4        4.0  \n",
       "...      ...  \n",
       "1058     1.5  \n",
       "1059     3.0  \n",
       "1060     0.5  \n",
       "1061     1.5  \n",
       "1062     3.5  \n",
       "\n",
       "[1063 rows x 5 columns]"
      ]
     },
     "execution_count": 2,
     "metadata": {},
     "output_type": "execute_result"
    }
   ],
   "source": [
    "#whose folder are we going into\n",
    "name = 'tory'\n",
    "\n",
    "watched_df = pd.read_csv (\"watched.csv\")\n",
    "watched_df = watched_df.rename(columns={'release year': 'release'})\n",
    "rated_df = pd.read_csv (\"ratings.csv\")\n",
    "rated_df = rated_df.rename(columns={'release year': 'release'})\n",
    "rated_df"
   ]
  },
  {
   "cell_type": "code",
   "execution_count": 3,
   "id": "59af3e2f",
   "metadata": {},
   "outputs": [
    {
     "data": {
      "text/plain": [
       "0       2010\n",
       "1       2009\n",
       "2       2009\n",
       "3       2009\n",
       "4       2008\n",
       "        ... \n",
       "1058    2019\n",
       "1059    2019\n",
       "1060    2022\n",
       "1061    2009\n",
       "1062    2018\n",
       "Name: Year, Length: 1063, dtype: int64"
      ]
     },
     "execution_count": 3,
     "metadata": {},
     "output_type": "execute_result"
    }
   ],
   "source": [
    "w_years = watched_df.loc[:,'Year']\n",
    "r_years = rated_df.loc[:,'Year']\n",
    "r_years"
   ]
  },
  {
   "cell_type": "code",
   "execution_count": 4,
   "id": "ca51174a",
   "metadata": {},
   "outputs": [],
   "source": [
    "from collections import Counter\n",
    "import matplotlib.pyplot as plt\n",
    "\n",
    "w_counts = Counter(w_years)\n",
    "r_counts = Counter(r_years)"
   ]
  },
  {
   "cell_type": "code",
   "execution_count": 5,
   "id": "cae38c86",
   "metadata": {},
   "outputs": [],
   "source": [
    "highestY =0\n",
    "highestV =0\n",
    "for key, value in w_counts.items():\n",
    "    if value > highestV:\n",
    "        highestY = key\n",
    "        highestV = value"
   ]
  },
  {
   "cell_type": "code",
   "execution_count": 6,
   "id": "eb20b456",
   "metadata": {},
   "outputs": [
    {
     "data": {
      "text/plain": [
       "23"
      ]
     },
     "execution_count": 6,
     "metadata": {},
     "output_type": "execute_result"
    }
   ],
   "source": [
    "oldies =0\n",
    "for key, value in w_counts.items():\n",
    "    if key < 1980:\n",
    "        oldies += value\n",
    "oldies"
   ]
  },
  {
   "cell_type": "code",
   "execution_count": 7,
   "id": "eb44e2d2",
   "metadata": {},
   "outputs": [],
   "source": [
    "ratings = rated_df.loc[:,'Rating']\n"
   ]
  },
  {
   "cell_type": "code",
   "execution_count": 8,
   "id": "9a0842ae",
   "metadata": {},
   "outputs": [],
   "source": [
    "year_maths ={}\n",
    "#for loop through years making a new line with that year and value 0\n",
    "null_vals = [0] * len(rated_df)\n",
    "year_maths = dict(zip(w_years, null_vals))\n"
   ]
  },
  {
   "cell_type": "code",
   "execution_count": 9,
   "id": "6c3288f1",
   "metadata": {},
   "outputs": [],
   "source": [
    "total_avg = 0\n",
    "for i in range(len(rated_df)):\n",
    "    sum = year_maths.get(r_years.get(i)) + ratings.get(i)\n",
    "    year_maths.update({r_years.get(i): sum})\n",
    "    total_avg += rated_df.loc[i, 'Rating']"
   ]
  },
  {
   "cell_type": "code",
   "execution_count": null,
   "id": "cd12b109",
   "metadata": {},
   "outputs": [],
   "source": []
  },
  {
   "cell_type": "code",
   "execution_count": 10,
   "id": "c2dbc181",
   "metadata": {},
   "outputs": [],
   "source": [
    "allyear_maths ={}\n",
    "highest_avg  =0\n",
    "highest_year = 0\n",
    "for key, value in year_maths.items():\n",
    "    count = r_counts.get(key)\n",
    "    avg = value/count\n",
    "    if highest_avg< avg:\n",
    "        highest_avg = avg\n",
    "        highest_year = key\n",
    "    allyear_maths.update({key: avg})"
   ]
  },
  {
   "cell_type": "code",
   "execution_count": 11,
   "id": "87796c97",
   "metadata": {},
   "outputs": [],
   "source": [
    "high5  =0\n",
    "high5avg = 0\n",
    "year5maths ={}\n",
    "low5= 2050\n",
    "low5avg = 10\n",
    "\n",
    "for key, value in year_maths.items():\n",
    "    count = r_counts.get(key)\n",
    "    if count >=5:\n",
    "        avg = value/count\n",
    "        if high5avg< avg:\n",
    "            high5avg = avg\n",
    "            high5 = key\n",
    "        if low5avg> avg:\n",
    "            low5avg = avg\n",
    "            low5 = key\n",
    "        year5maths.update({key: avg})"
   ]
  },
  {
   "cell_type": "code",
   "execution_count": 12,
   "id": "c9c6a578",
   "metadata": {},
   "outputs": [],
   "source": [
    "year6maths ={}\n",
    "#for loop through years making a new line with that year and value 0\n",
    "null_vals = [0] * len(rated_df)\n",
    "year6maths = dict(zip(w_years, null_vals))"
   ]
  },
  {
   "cell_type": "code",
   "execution_count": 13,
   "id": "e22810a8",
   "metadata": {},
   "outputs": [],
   "source": [
    "for i in range(len(rated_df)):\n",
    "    if ratings.get(i) >= 3:\n",
    "        sum = year_maths.get(r_years.get(i)) + ratings.get(i)\n",
    "        year6maths.update({r_years.get(i): sum})"
   ]
  },
  {
   "cell_type": "code",
   "execution_count": 14,
   "id": "5e75e415",
   "metadata": {},
   "outputs": [],
   "source": [
    "high  =0\n",
    "high6avg = 0\n",
    "year6mathsavg ={}\n",
    "\n",
    "for key, value in year6maths.items():\n",
    "    count = r_counts.get(key)\n",
    "    if count >=5:\n",
    "        avg = value/count\n",
    "        if high6avg< avg:\n",
    "            high6avg = avg\n",
    "            high6 = key\n",
    "        year6mathsavg.update({key: avg})"
   ]
  },
  {
   "cell_type": "code",
   "execution_count": 15,
   "id": "d8ced719",
   "metadata": {},
   "outputs": [],
   "source": [
    "ynr = list(zip(r_years, ratings))\n",
    "counts4= dict(zip(r_years, null_vals))\n",
    "for i, j in ynr:\n",
    "    if j >=4:\n",
    "        newc = counts4.get(i) +1\n",
    "        counts4.update({i: newc})"
   ]
  },
  {
   "cell_type": "code",
   "execution_count": 16,
   "id": "717fb022",
   "metadata": {},
   "outputs": [],
   "source": [
    "vol4 = 0\n",
    "year4 = 0\n",
    "\n",
    "for key, value in counts4.items():\n",
    "    if value > vol4:\n",
    "        vol4 = value\n",
    "        year4 = key"
   ]
  },
  {
   "cell_type": "code",
   "execution_count": 17,
   "id": "7a002a5c",
   "metadata": {},
   "outputs": [],
   "source": [
    "ynr = list(zip(r_years, ratings))\n",
    "counts1_5= dict(zip(r_years, null_vals))\n",
    "for i, j in ynr:\n",
    "    if j <=1.5:\n",
    "        newc = counts1_5.get(i) +1\n",
    "        counts1_5.update({i: newc})"
   ]
  },
  {
   "cell_type": "code",
   "execution_count": 25,
   "id": "27bbd2e8",
   "metadata": {},
   "outputs": [],
   "source": [
    "year2_5 = 0\n",
    "vol2_5 = 0\n",
    "\n",
    "for key, value in counts1_5.items():\n",
    "    if value > vol2_5:\n",
    "        year2_5 = key\n",
    "        vol2_5 = value"
   ]
  },
  {
   "cell_type": "code",
   "execution_count": 26,
   "id": "f38c16ea",
   "metadata": {},
   "outputs": [
    {
     "name": "stdout",
     "output_type": "stream",
     "text": [
      "your most watched year:  2011  with  62  movies\n",
      "your total average movie rating: 2.52\n",
      "year with the highest average ratings:  1979  with an avg of:  4.25\n",
      "however you only saw:  2 movies that year,,, soooo taking that into account\n",
      "\n",
      "\n",
      "let's only look at years that you've seen more than 5 movies from\n",
      "\n",
      "\n",
      "your highest rated year is: 1997 with an avg of:3.17  with  15 movies that year\n",
      "that feels weird, so just in general, the year you've rated the most films at 4★ or higher:  2019  with  14  movies\n",
      "\n",
      "\n",
      "how about worst movies! your lowest rated year is:  1987 at: 1.71  with  7 movies that year\n",
      "that also feels weird! but the year you've rated the most films at 1.5★ or lower:  2016  with  18  unfortunate movies\n"
     ]
    }
   ],
   "source": [
    "print(\"your most watched year: \",highestY, \" with \",highestV,\" movies\")\n",
    "print(\"your total average movie rating: {:0.2f}\".format(total_avg/len(rated_df)))\n",
    "print(\"year with the highest average ratings: \", highest_year, \" with an avg of: \", highest_avg)\n",
    "print(\"however you only saw: \", r_counts.get(highest_year), \"movies that year,,, soooo taking that into account\")\n",
    "print(\"\\n\")\n",
    "print(\"let's only look at years that you've seen more than 5 movies from\")\n",
    "print(\"\\n\")\n",
    "print(\"your highest rated year is:\", high5, \"with an avg of:{:0.2f}\".format(high5avg), \" with \",r_counts.get(high5), \"movies that year\")\n",
    "print(\"that feels weird, so just in general, the year you've rated the most films at 4★ or higher: \", year4, \" with \", vol4, \" movies\")\n",
    "print(\"\\n\")\n",
    "print(\"how about worst movies! your lowest rated year is: \", low5, \"at: {:0.2f}\".format(low5avg), \" with \",r_counts.get(low5), \"movies that year\")\n",
    "print(\"that also feels weird! but the year you've rated the most films at 1.5★ or lower: \", year2_5, \" with \", vol2_5, \" unfortunate movies\")\n"
   ]
  },
  {
   "cell_type": "code",
   "execution_count": 20,
   "id": "eadca870",
   "metadata": {},
   "outputs": [
    {
     "data": {
      "text/plain": [
       "Text(0.5, 1.0, 'Average rating per year')"
      ]
     },
     "execution_count": 20,
     "metadata": {},
     "output_type": "execute_result"
    },
    {
     "data": {
      "image/png": "[encoded data removed]",
      "text/plain": [
       "<Figure size 432x288 with 1 Axes>"
      ]
     },
     "metadata": {
      "needs_background": "light"
     },
     "output_type": "display_data"
    }
   ],
   "source": [
    "plt.bar(allyear_maths.keys(), allyear_maths.values())\n",
    "plt.title(\"Average rating per year\")"
   ]
  },
  {
   "cell_type": "code",
   "execution_count": 21,
   "id": "572993ac",
   "metadata": {},
   "outputs": [
    {
     "data": {
      "text/plain": [
       "Text(0.5, 1.0, 'Average Rating For Each Year With More Than 5 Ratings')"
      ]
     },
     "execution_count": 21,
     "metadata": {},
     "output_type": "execute_result"
    },
    {
     "data": {
      "image/png": "[encoded data removed]",
      "text/plain": [
       "<Figure size 432x288 with 1 Axes>"
      ]
     },
     "metadata": {
      "needs_background": "light"
     },
     "output_type": "display_data"
    }
   ],
   "source": [
    "plt.bar(year5maths.keys(), year5maths.values())\n",
    "plt.title(\"Average Rating For Each Year With More Than 5 Ratings\")"
   ]
  },
  {
   "cell_type": "code",
   "execution_count": 22,
   "id": "4913ea68",
   "metadata": {},
   "outputs": [
    {
     "data": {
      "text/plain": [
       "Text(0.5, 1.0, 'Number of Watched and Rated Movies Per Year')"
      ]
     },
     "execution_count": 22,
     "metadata": {},
     "output_type": "execute_result"
    },
    {
     "data": {
      "image/png": "[encoded data removed]",
      "text/plain": [
       "<Figure size 432x288 with 1 Axes>"
      ]
     },
     "metadata": {
      "needs_background": "light"
     },
     "output_type": "display_data"
    }
   ],
   "source": [
    "plt.bar(w_counts.keys(), w_counts.values())\n",
    "plt.bar(r_counts.keys(), r_counts.values())\n",
    "plt.title(\"Number of Watched and Rated Movies Per Year\")"
   ]
  }
 ],
 "metadata": {
  "kernelspec": {
   "display_name": "Python 3 (ipykernel)",
   "language": "python",
   "name": "python3"
  },
  "language_info": {
   "codemirror_mode": {
    "name": "ipython",
    "version": 3
   },
   "file_extension": ".py",
   "mimetype": "text/x-python",
   "name": "python",
   "nbconvert_exporter": "python",
   "pygments_lexer": "ipython3",
   "version": "3.10.5"
  }
 },
 "nbformat": 4,
 "nbformat_minor": 5
}
